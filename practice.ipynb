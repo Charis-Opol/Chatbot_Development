{
 "cells": [
  {
   "cell_type": "code",
   "execution_count": 1,
   "metadata": {},
   "outputs": [
    {
     "name": "stderr",
     "output_type": "stream",
     "text": [
      "List Trainer: 7it [00:00, 41.80it/s]\n"
     ]
    },
    {
     "name": "stdout",
     "output_type": "stream",
     "text": [
      "How are you?\n"
     ]
    }
   ],
   "source": [
    "from chatterbot import ChatBot\n",
    "from chatterbot.trainers import ListTrainer\n",
    "\n",
    "# Create a new chatbot\n",
    "chatbot = ChatBot(\"Chatpot\")\n",
    "\n",
    "# Train the chatbot with a list of responses\n",
    "trainer = ListTrainer(chatbot)\n",
    "trainer.train([\n",
    "    \"Hi\",\n",
    "    \"Hello!\",\n",
    "    \"How are you?\",\n",
    "    \"I'm doing well, thank you!\",\n",
    "    \"That's good to hear.\",\n",
    "    \"Thank you.\",\n",
    "    \"You're welcome.\"\n",
    "])\n",
    "\n",
    "# Get a response from the chatbot\n",
    "response = chatbot.get_response(\"Hi\")\n",
    "print(response)"
   ]
  }
 ],
 "metadata": {
  "kernelspec": {
   "display_name": ".venv",
   "language": "python",
   "name": "python3"
  },
  "language_info": {
   "codemirror_mode": {
    "name": "ipython",
    "version": 3
   },
   "file_extension": ".py",
   "mimetype": "text/x-python",
   "name": "python",
   "nbconvert_exporter": "python",
   "pygments_lexer": "ipython3",
   "version": "3.9.13"
  }
 },
 "nbformat": 4,
 "nbformat_minor": 2
}
