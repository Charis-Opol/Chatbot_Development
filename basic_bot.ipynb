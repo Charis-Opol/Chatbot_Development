{
 "cells": [
  {
   "cell_type": "code",
   "execution_count": null,
   "metadata": {},
   "outputs": [
    {
     "ename": "",
     "evalue": "",
     "output_type": "error",
     "traceback": [
      "\u001b[1;31mRunning cells with 'Python 3.13.2' requires the ipykernel package.\n",
      "\u001b[1;31mRun the following command to install 'ipykernel' into the Python environment. \n",
      "\u001b[1;31mCommand: 'c:/Users/Charis/AppData/Local/Programs/Python/Python313/python.exe -m pip install ipykernel -U --user --force-reinstall'"
     ]
    }
   ],
   "source": [
    "import random\n",
    "import nltk \n",
    "from nltk.stem import WordNetLemmatizer\n",
    "\n",
    "nltk.download(\"punkt\")\n",
    "nltk.download(\"wordnet\")\n",
    "\n",
    "lemmantizer = WordNetLemmatizer()\n",
    "\n",
    "intents = {\n",
    "    \"greeting\": {\n",
    "        \"patterns\": [\"hello\", \"hi\", \"hey\", \"how are you\"],\n",
    "        \"responses\": [\"Hello!\", \"Hi there!\", \"Hey, how can I help you!\"]\n",
    "    },\n",
    "    \"goodbye\": {\n",
    "        \"patterns\": [\"bye\", \"goodbye\", \"see you later\"],\n",
    "        \"responses\": [\"Goodbye\", \"See you later\", \"Bye, Take care.\"]\n",
    "    },\n",
    "    \"thanks\": {\n",
    "        \"patterns\": [\"thanks\", \"thank you\", \"appreciate it\"],\n",
    "        \"responses\": [\"Your welcome!\", \"No problem!\", \"Happy to help!\"]\n",
    "    }\n",
    "}\n",
    "\n",
    "def preprocess(text):\n",
    "    #Tokenize and lemmatize\n",
    "    #print(\"Input Text:\", text)\n",
    "    tokens = nltk.word_tokenize(text.lower(),\"english\")\n",
    "    #print(\"Tokens:\", tokens)\n",
    "    tokens = [lemmantizer.lemmatize(token) for token in tokens]\n",
    "    return tokens\n",
    "\n",
    "#Finding the best matching intent\n",
    "def get_intent(user_input):\n",
    "    user_input = preprocess(user_input)\n",
    "    best_match = None\n",
    "    best_score = 0\n",
    "\n",
    "    for intent_name, intent_data in intents.items():\n",
    "        for pattern in intent_data[\"patterns\"]:\n",
    "            pattern_tokens = preprocess(pattern)\n",
    "            #Counting common words\n",
    "            score = len(set(user_input).intersection(set(pattern_tokens)))\n",
    "            if score > best_score:\n",
    "                best_score = score\n",
    "                best_match = intent_name\n",
    "\n",
    "    return best_match\n",
    "\n",
    "#Chatbot function\n",
    "def chatbot_response(user_input):\n",
    "    intent = get_intent(user_input)\n",
    "    if intent:\n",
    "        return random.choice(intents[intent][\"responses\"])\n",
    "    else:\n",
    "        return \"I am sorry, I do not understand that.\"\n",
    "    \n",
    "#Chatbot loop\n",
    "exit_condition = (\"q:\", \"quit\",\"exit\")\n",
    "print(\"Chatbot: Hello! How can I help you today?(Type :q, quit or exit to end the chat.)\")\n",
    "case = True\n",
    "while case == True:\n",
    "    query = input(\"User: \")\n",
    "    if query.lower() in exit_condition:\n",
    "        break\n",
    "    else:\n",
    "        response = chatbot_response(query)\n",
    "        print(f\"Chatbot: {response}\")"
   ]
  },
  {
   "cell_type": "code",
   "execution_count": null,
   "metadata": {},
   "outputs": [],
   "source": [
    "%pip install ipykernel\n"
   ]
  }
 ],
 "metadata": {
  "kernelspec": {
   "display_name": "Python 3",
   "language": "python",
   "name": "python3"
  },
  "language_info": {
   "name": "python",
   "version": "3.13.2"
  }
 },
 "nbformat": 4,
 "nbformat_minor": 2
}
