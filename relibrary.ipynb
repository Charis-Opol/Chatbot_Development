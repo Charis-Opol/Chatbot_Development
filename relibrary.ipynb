{
 "cells": [
  {
   "cell_type": "markdown",
   "metadata": {},
   "source": [
    "Understanding the re.library\n",
    "\n",
    "The re library in Python provides support for working with regular expressions (regex). Regular expressions are powerful tools for pattern matching and string manipulation — they allow you to search, extract, and modify text based on specific patterns."
   ]
  },
  {
   "cell_type": "code",
   "execution_count": 1,
   "metadata": {},
   "outputs": [
    {
     "name": "stdout",
     "output_type": "stream",
     "text": [
      "Match found!\n"
     ]
    }
   ],
   "source": [
    "import re\n",
    "\n",
    "pattern = r\"hello\"\n",
    "text = \"hello world\"\n",
    "match = re.match(pattern, text)\n",
    "\n",
    "if match:\n",
    "    print(\"Match found!\")\n",
    "else:\n",
    "    print(\"No match.\")\n"
   ]
  },
  {
   "cell_type": "markdown",
   "metadata": {},
   "source": [
    "re.search()"
   ]
  },
  {
   "cell_type": "code",
   "execution_count": 2,
   "metadata": {},
   "outputs": [
    {
     "name": "stdout",
     "output_type": "stream",
     "text": [
      "Match found: world\n"
     ]
    }
   ],
   "source": [
    "pattern = r\"world\" #the r stands for a raw string\n",
    "text = \"hello world\"\n",
    "match = re.search(pattern, text)\n",
    "\n",
    "if match:\n",
    "    print(\"Match found:\", match.group())\n",
    "else:\n",
    "    print(\"No match.\")\n"
   ]
  },
  {
   "cell_type": "markdown",
   "metadata": {},
   "source": [
    "re.findin()"
   ]
  },
  {
   "cell_type": "code",
   "execution_count": 3,
   "metadata": {},
   "outputs": [
    {
     "name": "stdout",
     "output_type": "stream",
     "text": [
      "['123', '456']\n"
     ]
    }
   ],
   "source": [
    "pattern = r\"\\d+\"   # Matches one or more digits\n",
    "text = \"My number is 123 and your number is 456.\"\n",
    "matches = re.findall(pattern, text)\n",
    "\n",
    "print(matches)\n"
   ]
  },
  {
   "cell_type": "markdown",
   "metadata": {},
   "source": [
    "re.sub()\n",
    "Replaces occurrences of a pattern with a specified replacement string."
   ]
  },
  {
   "cell_type": "code",
   "execution_count": 4,
   "metadata": {},
   "outputs": [
    {
     "name": "stdout",
     "output_type": "stream",
     "text": [
      "I like oranges.\n"
     ]
    }
   ],
   "source": [
    "pattern = r\"apples\"\n",
    "replacement = \"oranges\"\n",
    "text = \"I like apples.\"\n",
    "result = re.sub(pattern, replacement, text)\n",
    "\n",
    "print(result)\n"
   ]
  },
  {
   "cell_type": "markdown",
   "metadata": {},
   "source": [
    "re.split()\n",
    "Splits a string into a list using the pattern as the delimiter."
   ]
  },
  {
   "cell_type": "code",
   "execution_count": 5,
   "metadata": {},
   "outputs": [
    {
     "name": "stdout",
     "output_type": "stream",
     "text": [
      "['This', 'is', 'a', 'test']\n"
     ]
    }
   ],
   "source": [
    "pattern = r\"\\s+\"  # Split on whitespace\n",
    "text = \"This is a test\"\n",
    "result = re.split(pattern, text)\n",
    "\n",
    "print(result)\n"
   ]
  },
  {
   "cell_type": "markdown",
   "metadata": {},
   "source": [
    "🔎 Match Object Methods\n",
    "\n",
    "When a match is found (using match() or search()), you get a Match object with useful methods:\n",
    "\n",
    "Method\tDescription\tExample\n",
    "\n",
    "group()\tReturns the matched text\tmatch.group() → 'hello'\n",
    "\n",
    "start()\tReturns the starting index of the match\tmatch.start() → 0\n",
    "\n",
    "end()\tReturns the ending index of the match\tmatch.end() → 5\n",
    "\n",
    "span()\tReturns a tuple (start, end) of the match\tmatch.span() → (0, 5)\n",
    "\n",
    "\n",
    "🎯 Common Regex Patterns\n",
    "\n",
    "Pattern\tDescription\tExample\n",
    "\n",
    ".\tAny character except a newline\t        -> \"h.t\" matches hat, hit\n",
    "\n",
    "\\d\tDigit (0-9)\t        -> \"Order \\d\" matches Order 5\n",
    "\n",
    "\\D\tNon-digit character\t        -> \"Item \\D\" matches Item A\n",
    "\n",
    "\\s\tWhitespace (space, tab, newline)\t    -> \"a\\sb\" matches a b\n",
    "\n",
    "\\S\tNon-whitespace character\t    ->\"a\\Sb\" matches a5b\n",
    "\n",
    "\\w\tAlphanumeric + underscore\t        ->\"a\\w+\" matches apple\n",
    "\n",
    "\\W\tNon-alphanumeric character\t        ->\"a\\Wb\" matches a!b\n",
    "\n",
    "^\tStart of string\t^hello matches      ->\"hello world\"\n",
    "\n",
    "$\tEnd of string\tworld$ matches          ->\"hello world\"\n",
    "\n",
    "*\t0 or more occurrences\t            ->\"he*o\" matches heo, heeeo\n",
    "\n",
    "+\t1 or more occurrences\t        ->\"he+o\" matches heo, heeeo\n",
    "\n",
    "?\t0 or 1 occurrence\t        ->\"he?o\" matches heo, ho\n",
    "\n",
    "{m,n}\tBetween m and n occurrences\t\"       -> he{2,4}o\" matches heeoo, heeeeo\n",
    "\n",
    "`\t`\tOR operator\n",
    "\n",
    "()\tCapture group\t        ->\"(ab)+\" matches ababab\n",
    "\n",
    "\\b\tWord boundary\t        -> \\bcat\\b matches cat but not scattered\n"
   ]
  }
 ],
 "metadata": {
  "kernelspec": {
   "display_name": "Python 3",
   "language": "python",
   "name": "python3"
  },
  "language_info": {
   "codemirror_mode": {
    "name": "ipython",
    "version": 3
   },
   "file_extension": ".py",
   "mimetype": "text/x-python",
   "name": "python",
   "nbconvert_exporter": "python",
   "pygments_lexer": "ipython3",
   "version": "3.13.0"
  }
 },
 "nbformat": 4,
 "nbformat_minor": 2
}
