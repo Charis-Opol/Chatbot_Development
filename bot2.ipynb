{
 "cells": [
  {
   "cell_type": "code",
   "execution_count": null,
   "metadata": {},
   "outputs": [
    {
     "ename": "ModuleNotFoundError",
     "evalue": "No module named 'chatterbot'",
     "output_type": "error",
     "traceback": [
      "\u001b[1;31m---------------------------------------------------------------------------\u001b[0m",
      "\u001b[1;31mModuleNotFoundError\u001b[0m                       Traceback (most recent call last)",
      "\u001b[1;32m~\\AppData\\Local\\Temp\\ipykernel_16664\\1586886842.py\u001b[0m in \u001b[0;36m<module>\u001b[1;34m\u001b[0m\n\u001b[1;32m----> 1\u001b[1;33m \u001b[1;32mfrom\u001b[0m \u001b[0mchatterbot\u001b[0m \u001b[1;32mimport\u001b[0m \u001b[0mChatBot\u001b[0m\u001b[1;33m\u001b[0m\u001b[1;33m\u001b[0m\u001b[0m\n\u001b[0m\u001b[0;32m      2\u001b[0m \u001b[1;32mfrom\u001b[0m \u001b[0mchatterbot\u001b[0m\u001b[1;33m.\u001b[0m\u001b[0mtrainers\u001b[0m \u001b[1;32mimport\u001b[0m \u001b[0mListTrainer\u001b[0m\u001b[1;33m\u001b[0m\u001b[1;33m\u001b[0m\u001b[0m\n\u001b[0;32m      3\u001b[0m \u001b[1;33m\u001b[0m\u001b[0m\n\u001b[0;32m      4\u001b[0m \u001b[0mchatbot\u001b[0m \u001b[1;33m=\u001b[0m \u001b[0mChatBot\u001b[0m\u001b[1;33m(\u001b[0m\u001b[1;34m\"Chatpot\"\u001b[0m\u001b[1;33m)\u001b[0m\u001b[1;33m\u001b[0m\u001b[1;33m\u001b[0m\u001b[0m\n\u001b[0;32m      5\u001b[0m \u001b[1;33m\u001b[0m\u001b[0m\n",
      "\u001b[1;31mModuleNotFoundError\u001b[0m: No module named 'chatterbot'"
     ]
    }
   ],
   "source": [
    "from chatterbot import ChatBot\n",
    "from chatterbot.trainers import ListTrainer\n",
    "\n",
    "chatbot = ChatBot(\"Chatpot\")\n",
    "\n",
    "trainer = ListTrainer(chatbot)\n",
    "trainer.train([\n",
    "    \"Hi\",\n",
    "    \"Welcome, friend\",\n",
    "])\n",
    "trainer.train([\n",
    "    \"Are you a plant?\",\n",
    "    \"No, I am the pot below the plant!\",\n",
    "])\n",
    "\n",
    "exit_conditions = (\"q:\", \"quit\", \"exit\")\n",
    "while True:\n",
    "    query = input(\"User: \")\n",
    "    if query in exit_conditions:\n",
    "        break\n",
    "    else:\n",
    "        print(f\"Chatpot: {chatbot.get_response(query)}\")"
   ]
  },
  {
   "cell_type": "code",
   "execution_count": null,
   "metadata": {},
   "outputs": [
    {
     "name": "stdout",
     "output_type": "stream",
     "text": [
      "Requirement already satisfied: spaCy in c:\\users\\charis\\desktop\\chatbot development\\.chatbotbuilder\\lib\\site-packages (3.8.3)\n",
      "Requirement already satisfied: spacy-legacy<3.1.0,>=3.0.11 in c:\\users\\charis\\desktop\\chatbot development\\.chatbotbuilder\\lib\\site-packages (from spaCy) (3.0.12)\n",
      "Requirement already satisfied: spacy-loggers<2.0.0,>=1.0.0 in c:\\users\\charis\\desktop\\chatbot development\\.chatbotbuilder\\lib\\site-packages (from spaCy) (1.0.5)\n",
      "Requirement already satisfied: murmurhash<1.1.0,>=0.28.0 in c:\\users\\charis\\desktop\\chatbot development\\.chatbotbuilder\\lib\\site-packages (from spaCy) (1.0.12)\n",
      "Requirement already satisfied: cymem<2.1.0,>=2.0.2 in c:\\users\\charis\\desktop\\chatbot development\\.chatbotbuilder\\lib\\site-packages (from spaCy) (2.0.11)\n",
      "Requirement already satisfied: preshed<3.1.0,>=3.0.2 in c:\\users\\charis\\desktop\\chatbot development\\.chatbotbuilder\\lib\\site-packages (from spaCy) (3.0.9)\n",
      "Requirement already satisfied: thinc<8.4.0,>=8.3.0 in c:\\users\\charis\\desktop\\chatbot development\\.chatbotbuilder\\lib\\site-packages (from spaCy) (8.3.4)\n",
      "Requirement already satisfied: wasabi<1.2.0,>=0.9.1 in c:\\users\\charis\\desktop\\chatbot development\\.chatbotbuilder\\lib\\site-packages (from spaCy) (1.1.3)\n",
      "Requirement already satisfied: srsly<3.0.0,>=2.4.3 in c:\\users\\charis\\desktop\\chatbot development\\.chatbotbuilder\\lib\\site-packages (from spaCy) (2.5.1)\n",
      "Requirement already satisfied: catalogue<2.1.0,>=2.0.6 in c:\\users\\charis\\desktop\\chatbot development\\.chatbotbuilder\\lib\\site-packages (from spaCy) (2.0.10)\n",
      "Requirement already satisfied: weasel<0.5.0,>=0.1.0 in c:\\users\\charis\\desktop\\chatbot development\\.chatbotbuilder\\lib\\site-packages (from spaCy) (0.4.1)\n",
      "Requirement already satisfied: typer<1.0.0,>=0.3.0 in c:\\users\\charis\\desktop\\chatbot development\\.chatbotbuilder\\lib\\site-packages (from spaCy) (0.15.2)\n",
      "Requirement already satisfied: tqdm<5.0.0,>=4.38.0 in c:\\users\\charis\\desktop\\chatbot development\\.chatbotbuilder\\lib\\site-packages (from spaCy) (4.67.1)\n",
      "Requirement already satisfied: numpy>=1.19.0 in c:\\users\\charis\\desktop\\chatbot development\\.chatbotbuilder\\lib\\site-packages (from spaCy) (2.0.2)\n",
      "Requirement already satisfied: requests<3.0.0,>=2.13.0 in c:\\users\\charis\\desktop\\chatbot development\\.chatbotbuilder\\lib\\site-packages (from spaCy) (2.32.3)\n",
      "Requirement already satisfied: pydantic!=1.8,!=1.8.1,<3.0.0,>=1.7.4 in c:\\users\\charis\\desktop\\chatbot development\\.chatbotbuilder\\lib\\site-packages (from spaCy) (2.10.6)\n",
      "Requirement already satisfied: jinja2 in c:\\users\\charis\\desktop\\chatbot development\\.chatbotbuilder\\lib\\site-packages (from spaCy) (3.1.6)\n",
      "Requirement already satisfied: setuptools in c:\\users\\charis\\desktop\\chatbot development\\.chatbotbuilder\\lib\\site-packages (from spaCy) (58.1.0)\n",
      "Requirement already satisfied: packaging>=20.0 in c:\\users\\charis\\desktop\\chatbot development\\.chatbotbuilder\\lib\\site-packages (from spaCy) (24.2)\n",
      "Requirement already satisfied: langcodes<4.0.0,>=3.2.0 in c:\\users\\charis\\desktop\\chatbot development\\.chatbotbuilder\\lib\\site-packages (from spaCy) (3.5.0)\n",
      "Requirement already satisfied: language-data>=1.2 in c:\\users\\charis\\desktop\\chatbot development\\.chatbotbuilder\\lib\\site-packages (from langcodes<4.0.0,>=3.2.0->spaCy) (1.3.0)\n",
      "Requirement already satisfied: annotated-types>=0.6.0 in c:\\users\\charis\\desktop\\chatbot development\\.chatbotbuilder\\lib\\site-packages (from pydantic!=1.8,!=1.8.1,<3.0.0,>=1.7.4->spaCy) (0.7.0)\n",
      "Requirement already satisfied: pydantic-core==2.27.2 in c:\\users\\charis\\desktop\\chatbot development\\.chatbotbuilder\\lib\\site-packages (from pydantic!=1.8,!=1.8.1,<3.0.0,>=1.7.4->spaCy) (2.27.2)\n",
      "Requirement already satisfied: typing-extensions>=4.12.2 in c:\\users\\charis\\desktop\\chatbot development\\.chatbotbuilder\\lib\\site-packages (from pydantic!=1.8,!=1.8.1,<3.0.0,>=1.7.4->spaCy) (4.12.2)\n",
      "Requirement already satisfied: charset-normalizer<4,>=2 in c:\\users\\charis\\desktop\\chatbot development\\.chatbotbuilder\\lib\\site-packages (from requests<3.0.0,>=2.13.0->spaCy) (3.4.1)\n",
      "Requirement already satisfied: idna<4,>=2.5 in c:\\users\\charis\\desktop\\chatbot development\\.chatbotbuilder\\lib\\site-packages (from requests<3.0.0,>=2.13.0->spaCy) (3.10)\n",
      "Requirement already satisfied: urllib3<3,>=1.21.1 in c:\\users\\charis\\desktop\\chatbot development\\.chatbotbuilder\\lib\\site-packages (from requests<3.0.0,>=2.13.0->spaCy) (2.3.0)\n",
      "Requirement already satisfied: certifi>=2017.4.17 in c:\\users\\charis\\desktop\\chatbot development\\.chatbotbuilder\\lib\\site-packages (from requests<3.0.0,>=2.13.0->spaCy) (2025.1.31)\n",
      "Requirement already satisfied: blis<1.3.0,>=1.2.0 in c:\\users\\charis\\desktop\\chatbot development\\.chatbotbuilder\\lib\\site-packages (from thinc<8.4.0,>=8.3.0->spaCy) (1.2.0)\n",
      "Requirement already satisfied: confection<1.0.0,>=0.0.1 in c:\\users\\charis\\desktop\\chatbot development\\.chatbotbuilder\\lib\\site-packages (from thinc<8.4.0,>=8.3.0->spaCy) (0.1.5)\n",
      "Requirement already satisfied: colorama in c:\\users\\charis\\desktop\\chatbot development\\.chatbotbuilder\\lib\\site-packages (from tqdm<5.0.0,>=4.38.0->spaCy) (0.4.6)\n",
      "Requirement already satisfied: click>=8.0.0 in c:\\users\\charis\\desktop\\chatbot development\\.chatbotbuilder\\lib\\site-packages (from typer<1.0.0,>=0.3.0->spaCy) (8.1.8)\n",
      "Requirement already satisfied: shellingham>=1.3.0 in c:\\users\\charis\\desktop\\chatbot development\\.chatbotbuilder\\lib\\site-packages (from typer<1.0.0,>=0.3.0->spaCy) (1.5.4)\n",
      "Requirement already satisfied: rich>=10.11.0 in c:\\users\\charis\\desktop\\chatbot development\\.chatbotbuilder\\lib\\site-packages (from typer<1.0.0,>=0.3.0->spaCy) (13.9.4)\n",
      "Requirement already satisfied: cloudpathlib<1.0.0,>=0.7.0 in c:\\users\\charis\\desktop\\chatbot development\\.chatbotbuilder\\lib\\site-packages (from weasel<0.5.0,>=0.1.0->spaCy) (0.21.0)\n",
      "Requirement already satisfied: smart-open<8.0.0,>=5.2.1 in c:\\users\\charis\\desktop\\chatbot development\\.chatbotbuilder\\lib\\site-packages (from weasel<0.5.0,>=0.1.0->spaCy) (7.1.0)\n",
      "Requirement already satisfied: MarkupSafe>=2.0 in c:\\users\\charis\\desktop\\chatbot development\\.chatbotbuilder\\lib\\site-packages (from jinja2->spaCy) (3.0.2)\n",
      "Requirement already satisfied: marisa-trie>=1.1.0 in c:\\users\\charis\\desktop\\chatbot development\\.chatbotbuilder\\lib\\site-packages (from language-data>=1.2->langcodes<4.0.0,>=3.2.0->spaCy) (1.2.1)\n",
      "Requirement already satisfied: markdown-it-py>=2.2.0 in c:\\users\\charis\\desktop\\chatbot development\\.chatbotbuilder\\lib\\site-packages (from rich>=10.11.0->typer<1.0.0,>=0.3.0->spaCy) (3.0.0)\n",
      "Requirement already satisfied: pygments<3.0.0,>=2.13.0 in c:\\users\\charis\\desktop\\chatbot development\\.chatbotbuilder\\lib\\site-packages (from rich>=10.11.0->typer<1.0.0,>=0.3.0->spaCy) (2.19.1)\n",
      "Requirement already satisfied: wrapt in c:\\users\\charis\\desktop\\chatbot development\\.chatbotbuilder\\lib\\site-packages (from smart-open<8.0.0,>=5.2.1->weasel<0.5.0,>=0.1.0->spaCy) (1.17.2)\n",
      "Requirement already satisfied: mdurl~=0.1 in c:\\users\\charis\\desktop\\chatbot development\\.chatbotbuilder\\lib\\site-packages (from markdown-it-py>=2.2.0->rich>=10.11.0->typer<1.0.0,>=0.3.0->spaCy) (0.1.2)\n",
      "Note: you may need to restart the kernel to use updated packages.\n"
     ]
    }
   ],
   "source": [
    "%pip install spaCy"
   ]
  },
  {
   "cell_type": "code",
   "execution_count": 3,
   "metadata": {},
   "outputs": [
    {
     "name": "stdout",
     "output_type": "stream",
     "text": [
      "Collecting spacy_download\n",
      "  Downloading spacy_download-1.1.0-py3-none-any.whl.metadata (2.6 kB)\n",
      "Requirement already satisfied: spacy<4.0.0,>=3.0.0 in c:\\users\\charis\\desktop\\chatbot development\\.chatbotbuilder\\lib\\site-packages (from spacy_download) (3.8.3)\n",
      "Requirement already satisfied: spacy-legacy<3.1.0,>=3.0.11 in c:\\users\\charis\\desktop\\chatbot development\\.chatbotbuilder\\lib\\site-packages (from spacy<4.0.0,>=3.0.0->spacy_download) (3.0.12)\n",
      "Requirement already satisfied: spacy-loggers<2.0.0,>=1.0.0 in c:\\users\\charis\\desktop\\chatbot development\\.chatbotbuilder\\lib\\site-packages (from spacy<4.0.0,>=3.0.0->spacy_download) (1.0.5)\n",
      "Requirement already satisfied: murmurhash<1.1.0,>=0.28.0 in c:\\users\\charis\\desktop\\chatbot development\\.chatbotbuilder\\lib\\site-packages (from spacy<4.0.0,>=3.0.0->spacy_download) (1.0.12)\n",
      "Requirement already satisfied: cymem<2.1.0,>=2.0.2 in c:\\users\\charis\\desktop\\chatbot development\\.chatbotbuilder\\lib\\site-packages (from spacy<4.0.0,>=3.0.0->spacy_download) (2.0.11)\n",
      "Requirement already satisfied: preshed<3.1.0,>=3.0.2 in c:\\users\\charis\\desktop\\chatbot development\\.chatbotbuilder\\lib\\site-packages (from spacy<4.0.0,>=3.0.0->spacy_download) (3.0.9)\n",
      "Requirement already satisfied: thinc<8.4.0,>=8.3.0 in c:\\users\\charis\\desktop\\chatbot development\\.chatbotbuilder\\lib\\site-packages (from spacy<4.0.0,>=3.0.0->spacy_download) (8.3.4)\n",
      "Requirement already satisfied: wasabi<1.2.0,>=0.9.1 in c:\\users\\charis\\desktop\\chatbot development\\.chatbotbuilder\\lib\\site-packages (from spacy<4.0.0,>=3.0.0->spacy_download) (1.1.3)\n",
      "Requirement already satisfied: srsly<3.0.0,>=2.4.3 in c:\\users\\charis\\desktop\\chatbot development\\.chatbotbuilder\\lib\\site-packages (from spacy<4.0.0,>=3.0.0->spacy_download) (2.5.1)\n",
      "Requirement already satisfied: catalogue<2.1.0,>=2.0.6 in c:\\users\\charis\\desktop\\chatbot development\\.chatbotbuilder\\lib\\site-packages (from spacy<4.0.0,>=3.0.0->spacy_download) (2.0.10)\n",
      "Requirement already satisfied: weasel<0.5.0,>=0.1.0 in c:\\users\\charis\\desktop\\chatbot development\\.chatbotbuilder\\lib\\site-packages (from spacy<4.0.0,>=3.0.0->spacy_download) (0.4.1)\n",
      "Requirement already satisfied: typer<1.0.0,>=0.3.0 in c:\\users\\charis\\desktop\\chatbot development\\.chatbotbuilder\\lib\\site-packages (from spacy<4.0.0,>=3.0.0->spacy_download) (0.15.2)\n",
      "Requirement already satisfied: tqdm<5.0.0,>=4.38.0 in c:\\users\\charis\\desktop\\chatbot development\\.chatbotbuilder\\lib\\site-packages (from spacy<4.0.0,>=3.0.0->spacy_download) (4.67.1)\n",
      "Requirement already satisfied: numpy>=1.19.0 in c:\\users\\charis\\desktop\\chatbot development\\.chatbotbuilder\\lib\\site-packages (from spacy<4.0.0,>=3.0.0->spacy_download) (2.0.2)\n",
      "Requirement already satisfied: requests<3.0.0,>=2.13.0 in c:\\users\\charis\\desktop\\chatbot development\\.chatbotbuilder\\lib\\site-packages (from spacy<4.0.0,>=3.0.0->spacy_download) (2.32.3)\n",
      "Requirement already satisfied: pydantic!=1.8,!=1.8.1,<3.0.0,>=1.7.4 in c:\\users\\charis\\desktop\\chatbot development\\.chatbotbuilder\\lib\\site-packages (from spacy<4.0.0,>=3.0.0->spacy_download) (2.10.6)\n",
      "Requirement already satisfied: jinja2 in c:\\users\\charis\\desktop\\chatbot development\\.chatbotbuilder\\lib\\site-packages (from spacy<4.0.0,>=3.0.0->spacy_download) (3.1.6)\n",
      "Requirement already satisfied: setuptools in c:\\users\\charis\\desktop\\chatbot development\\.chatbotbuilder\\lib\\site-packages (from spacy<4.0.0,>=3.0.0->spacy_download) (58.1.0)\n",
      "Requirement already satisfied: packaging>=20.0 in c:\\users\\charis\\desktop\\chatbot development\\.chatbotbuilder\\lib\\site-packages (from spacy<4.0.0,>=3.0.0->spacy_download) (24.2)\n",
      "Requirement already satisfied: langcodes<4.0.0,>=3.2.0 in c:\\users\\charis\\desktop\\chatbot development\\.chatbotbuilder\\lib\\site-packages (from spacy<4.0.0,>=3.0.0->spacy_download) (3.5.0)\n",
      "Requirement already satisfied: language-data>=1.2 in c:\\users\\charis\\desktop\\chatbot development\\.chatbotbuilder\\lib\\site-packages (from langcodes<4.0.0,>=3.2.0->spacy<4.0.0,>=3.0.0->spacy_download) (1.3.0)\n",
      "Requirement already satisfied: annotated-types>=0.6.0 in c:\\users\\charis\\desktop\\chatbot development\\.chatbotbuilder\\lib\\site-packages (from pydantic!=1.8,!=1.8.1,<3.0.0,>=1.7.4->spacy<4.0.0,>=3.0.0->spacy_download) (0.7.0)\n",
      "Requirement already satisfied: pydantic-core==2.27.2 in c:\\users\\charis\\desktop\\chatbot development\\.chatbotbuilder\\lib\\site-packages (from pydantic!=1.8,!=1.8.1,<3.0.0,>=1.7.4->spacy<4.0.0,>=3.0.0->spacy_download) (2.27.2)\n",
      "Requirement already satisfied: typing-extensions>=4.12.2 in c:\\users\\charis\\desktop\\chatbot development\\.chatbotbuilder\\lib\\site-packages (from pydantic!=1.8,!=1.8.1,<3.0.0,>=1.7.4->spacy<4.0.0,>=3.0.0->spacy_download) (4.12.2)\n",
      "Requirement already satisfied: charset-normalizer<4,>=2 in c:\\users\\charis\\desktop\\chatbot development\\.chatbotbuilder\\lib\\site-packages (from requests<3.0.0,>=2.13.0->spacy<4.0.0,>=3.0.0->spacy_download) (3.4.1)\n",
      "Requirement already satisfied: idna<4,>=2.5 in c:\\users\\charis\\desktop\\chatbot development\\.chatbotbuilder\\lib\\site-packages (from requests<3.0.0,>=2.13.0->spacy<4.0.0,>=3.0.0->spacy_download) (3.10)\n",
      "Requirement already satisfied: urllib3<3,>=1.21.1 in c:\\users\\charis\\desktop\\chatbot development\\.chatbotbuilder\\lib\\site-packages (from requests<3.0.0,>=2.13.0->spacy<4.0.0,>=3.0.0->spacy_download) (2.3.0)\n",
      "Requirement already satisfied: certifi>=2017.4.17 in c:\\users\\charis\\desktop\\chatbot development\\.chatbotbuilder\\lib\\site-packages (from requests<3.0.0,>=2.13.0->spacy<4.0.0,>=3.0.0->spacy_download) (2025.1.31)\n",
      "Requirement already satisfied: blis<1.3.0,>=1.2.0 in c:\\users\\charis\\desktop\\chatbot development\\.chatbotbuilder\\lib\\site-packages (from thinc<8.4.0,>=8.3.0->spacy<4.0.0,>=3.0.0->spacy_download) (1.2.0)\n",
      "Requirement already satisfied: confection<1.0.0,>=0.0.1 in c:\\users\\charis\\desktop\\chatbot development\\.chatbotbuilder\\lib\\site-packages (from thinc<8.4.0,>=8.3.0->spacy<4.0.0,>=3.0.0->spacy_download) (0.1.5)\n",
      "Requirement already satisfied: colorama in c:\\users\\charis\\desktop\\chatbot development\\.chatbotbuilder\\lib\\site-packages (from tqdm<5.0.0,>=4.38.0->spacy<4.0.0,>=3.0.0->spacy_download) (0.4.6)\n",
      "Requirement already satisfied: click>=8.0.0 in c:\\users\\charis\\desktop\\chatbot development\\.chatbotbuilder\\lib\\site-packages (from typer<1.0.0,>=0.3.0->spacy<4.0.0,>=3.0.0->spacy_download) (8.1.8)\n",
      "Requirement already satisfied: shellingham>=1.3.0 in c:\\users\\charis\\desktop\\chatbot development\\.chatbotbuilder\\lib\\site-packages (from typer<1.0.0,>=0.3.0->spacy<4.0.0,>=3.0.0->spacy_download) (1.5.4)\n",
      "Requirement already satisfied: rich>=10.11.0 in c:\\users\\charis\\desktop\\chatbot development\\.chatbotbuilder\\lib\\site-packages (from typer<1.0.0,>=0.3.0->spacy<4.0.0,>=3.0.0->spacy_download) (13.9.4)\n",
      "Requirement already satisfied: cloudpathlib<1.0.0,>=0.7.0 in c:\\users\\charis\\desktop\\chatbot development\\.chatbotbuilder\\lib\\site-packages (from weasel<0.5.0,>=0.1.0->spacy<4.0.0,>=3.0.0->spacy_download) (0.21.0)\n",
      "Requirement already satisfied: smart-open<8.0.0,>=5.2.1 in c:\\users\\charis\\desktop\\chatbot development\\.chatbotbuilder\\lib\\site-packages (from weasel<0.5.0,>=0.1.0->spacy<4.0.0,>=3.0.0->spacy_download) (7.1.0)\n",
      "Requirement already satisfied: MarkupSafe>=2.0 in c:\\users\\charis\\desktop\\chatbot development\\.chatbotbuilder\\lib\\site-packages (from jinja2->spacy<4.0.0,>=3.0.0->spacy_download) (3.0.2)\n",
      "Requirement already satisfied: marisa-trie>=1.1.0 in c:\\users\\charis\\desktop\\chatbot development\\.chatbotbuilder\\lib\\site-packages (from language-data>=1.2->langcodes<4.0.0,>=3.2.0->spacy<4.0.0,>=3.0.0->spacy_download) (1.2.1)\n",
      "Requirement already satisfied: markdown-it-py>=2.2.0 in c:\\users\\charis\\desktop\\chatbot development\\.chatbotbuilder\\lib\\site-packages (from rich>=10.11.0->typer<1.0.0,>=0.3.0->spacy<4.0.0,>=3.0.0->spacy_download) (3.0.0)\n",
      "Requirement already satisfied: pygments<3.0.0,>=2.13.0 in c:\\users\\charis\\desktop\\chatbot development\\.chatbotbuilder\\lib\\site-packages (from rich>=10.11.0->typer<1.0.0,>=0.3.0->spacy<4.0.0,>=3.0.0->spacy_download) (2.19.1)\n",
      "Requirement already satisfied: wrapt in c:\\users\\charis\\desktop\\chatbot development\\.chatbotbuilder\\lib\\site-packages (from smart-open<8.0.0,>=5.2.1->weasel<0.5.0,>=0.1.0->spacy<4.0.0,>=3.0.0->spacy_download) (1.17.2)\n",
      "Requirement already satisfied: mdurl~=0.1 in c:\\users\\charis\\desktop\\chatbot development\\.chatbotbuilder\\lib\\site-packages (from markdown-it-py>=2.2.0->rich>=10.11.0->typer<1.0.0,>=0.3.0->spacy<4.0.0,>=3.0.0->spacy_download) (0.1.2)\n",
      "Downloading spacy_download-1.1.0-py3-none-any.whl (3.6 kB)\n",
      "Installing collected packages: spacy_download\n",
      "Successfully installed spacy_download-1.1.0\n",
      "Note: you may need to restart the kernel to use updated packages.\n"
     ]
    }
   ],
   "source": [
    "%pip install spacy_download"
   ]
  }
 ],
 "metadata": {
  "kernelspec": {
   "display_name": ".ChatbotTools",
   "language": "python",
   "name": "python3"
  },
  "language_info": {
   "codemirror_mode": {
    "name": "ipython",
    "version": 3
   },
   "file_extension": ".py",
   "mimetype": "text/x-python",
   "name": "python",
   "nbconvert_exporter": "python",
   "pygments_lexer": "ipython3",
   "version": "3.7.9"
  }
 },
 "nbformat": 4,
 "nbformat_minor": 2
}
